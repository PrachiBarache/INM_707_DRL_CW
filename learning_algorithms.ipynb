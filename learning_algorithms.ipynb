{
 "cells": [
  {
   "cell_type": "code",
   "execution_count": 1,
   "id": "c5dea527",
   "metadata": {},
   "outputs": [
    {
     "ename": "ModuleNotFoundError",
     "evalue": "No module named 'zoo_environment'",
     "output_type": "error",
     "traceback": [
      "\u001b[0;31m---------------------------------------------------------------------------\u001b[0m",
      "\u001b[0;31mModuleNotFoundError\u001b[0m                       Traceback (most recent call last)",
      "Cell \u001b[0;32mIn[1], line 2\u001b[0m\n\u001b[1;32m      1\u001b[0m \u001b[38;5;28;01mimport\u001b[39;00m \u001b[38;5;21;01mrandom\u001b[39;00m\n\u001b[0;32m----> 2\u001b[0m \u001b[38;5;28;01mfrom\u001b[39;00m \u001b[38;5;21;01mzoo_environment\u001b[39;00m \u001b[38;5;28;01mimport\u001b[39;00m ZooEnvironment\n\u001b[1;32m      4\u001b[0m \u001b[38;5;28;01mdef\u001b[39;00m \u001b[38;5;21mq_learning\u001b[39m(env, episodes, alpha, gamma, epsilon, max_steps\u001b[38;5;241m=\u001b[39m\u001b[38;5;241m100\u001b[39m):\n\u001b[1;32m      5\u001b[0m     q_table \u001b[38;5;241m=\u001b[39m {}\n",
      "\u001b[0;31mModuleNotFoundError\u001b[0m: No module named 'zoo_environment'"
     ]
    }
   ],
   "source": [
    "import random\n",
    "from zoo_environment import ZooEnvironment\n",
    "\n",
    "def q_learning(env, episodes, alpha, gamma, epsilon, max_steps=100):\n",
    "    q_table = {}\n",
    "    results = []\n",
    "    for episode in range(episodes):\n",
    "        state = env.reset()\n",
    "        total_reward = 0\n",
    "        path = []\n",
    "        for step in range(max_steps):\n",
    "            if state not in q_table:\n",
    "                q_table[state] = {action: 0 for action in env.get_actions()}\n",
    "            action = random.choice(list(q_table[state].keys())) if random.random() < epsilon else max(q_table[state], key=q_table[state].get)\n",
    "            reward = env.move(action)\n",
    "            total_reward += reward\n",
    "            next_state = env.state\n",
    "            path.append(state)\n",
    "            if next_state not in q_table:\n",
    "                q_table[next_state] = {action: 0 for action in env.get_actions()}\n",
    "            old_value = q_table[state][action]\n",
    "            future_rewards = max(q_table[next_state].values(), default=0)\n",
    "            q_table[state][action] = old_value + alpha * (reward + gamma * future_rewards - old_value)\n",
    "            state = next_state\n",
    "            if env.is_terminal_state():\n",
    "                break\n",
    "        results.append({\n",
    "            \"Episode\": episode + 1, \n",
    "            \"Total Reward\": total_reward, \n",
    "            \"Steps\": step + 1, \n",
    "            \"Visited Animals\": len(env.visited_animals), \n",
    "            \"Path\": path\n",
    "        })\n",
    "    return results\n",
    "\n",
    "def sarsa(env, episodes, alpha, gamma, epsilon, max_steps=100):\n",
    "    q_table = {}\n",
    "    results = []\n",
    "    for episode in range(episodes):\n",
    "        state = env.reset()\n",
    "        total_reward = 0\n",
    "        path = []\n",
    "        action = random.choice(env.get_actions())\n",
    "        for step in range(max_steps):\n",
    "            if state not in q_table:\n",
    "                q_table[state] = {action: 0 for action in env.get_actions()}\n",
    "            reward = env.move(action)\n",
    "            total_reward += reward\n",
    "            next_state = env.state\n",
    "            if next_state not in q_table:\n",
    "                q_table[next_state] = {action: 0 for action in env.get_actions()}\n",
    "            next_action = random.choice(list(q_table[next_state].keys())) if random.random() < epsilon else max(q_table[next_state], key=q_table[next_state].get)\n",
    "            path.append(state)\n",
    "            old_value = q_table[state][action]\n",
    "            future_rewards = q_table[next_state][next_action]\n",
    "            q_table[state][action] = old_value + alpha * (reward + gamma * future_rewards - old_value)\n",
    "            state = next_state\n",
    "            action = next_action\n",
    "            if env.is_terminal_state():\n",
    "                break\n",
    "        results.append({\n",
    "            \"Episode\": episode + 1, \n",
    "            \"Total Reward\": total_reward, \n",
    "            \"Steps\": step + 1, \n",
    "            \"Visited Animals\": len(env.visited_animals), \n",
    "            \"Path\": path\n",
    "        })\n",
    "    return results\n"
   ]
  },
  {
   "cell_type": "code",
   "execution_count": null,
   "id": "dd7bbc9c",
   "metadata": {},
   "outputs": [],
   "source": []
  }
 ],
 "metadata": {
  "kernelspec": {
   "display_name": "Python (newenv)",
   "language": "python",
   "name": "newenv"
  },
  "language_info": {
   "codemirror_mode": {
    "name": "ipython",
    "version": 3
   },
   "file_extension": ".py",
   "mimetype": "text/x-python",
   "name": "python",
   "nbconvert_exporter": "python",
   "pygments_lexer": "ipython3",
   "version": "3.8.18"
  }
 },
 "nbformat": 4,
 "nbformat_minor": 5
}
