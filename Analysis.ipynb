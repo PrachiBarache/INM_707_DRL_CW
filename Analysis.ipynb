{
 "cells": [
  {
   "cell_type": "code",
   "execution_count": null,
   "id": "6dbe8aa0",
   "metadata": {},
   "outputs": [],
   "source": [
    "import matplotlib.pyplot as plt\n",
    "\n",
    "def plot_results(all_results):\n",
    "    plt.figure(figsize=(14, 10))\n",
    "    for key, results in all_results.items():\n",
    "        rewards = [res[\"Total Reward\"] for res in results]\n",
    "        plt.plot(rewards, label=key)\n",
    "    plt.xlabel('Episode')\n",
    "    plt.ylabel('Total Reward')\n",
    "    plt.title('Total Reward per Episode for Different Parameter Values')\n",
    "    plt.legend(loc='upper left', bbox_to_anchor=(1, 1))\n",
    "    plt.grid(True)\n",
    "    plt.tight_layout()\n",
    "    plt.show()\n",
    "\n",
    "def analyze_results(all_results):\n",
    "    print(\"Quantitative Analysis:\")\n",
    "    for key, results in all_results.items():\n",
    "        rewards = [res[\"Total Reward\"] for res in results]\n",
    "        print(f\"Policy: {key}, Mean Total Reward: {np.mean(rewards)}, Median Total Reward: {np.median(rewards)}, Std Total Reward: {np.std(rewards)}\")\n",
    "        plot_results(all_results)\n",
    "\n",
    "def analyze_results_sarsa(all_results):\n",
    "    print(\"Quantitative Analysis:\")\n",
    "    for key, results in all_results.items():\n",
    "        rewards = [res[\"Total Reward\"] for res in results]\n",
    "        print(f\"Parameters: {key}, Mean Total Reward: {np.mean(rewards)}, Median Total Reward: {np.median(rewards)}, Std Total Reward: {np.std(rewards)}\")\n",
    "    print(\"\\nQualitative Analysis:\")\n",
    "    plot_results(all_results)\n"
   ]
  }
 ],
 "metadata": {
  "kernelspec": {
   "display_name": "Python (newenv)",
   "language": "python",
   "name": "newenv"
  },
  "language_info": {
   "codemirror_mode": {
    "name": "ipython",
    "version": 3
   },
   "file_extension": ".py",
   "mimetype": "text/x-python",
   "name": "python",
   "nbconvert_exporter": "python",
   "pygments_lexer": "ipython3",
   "version": "3.8.18"
  }
 },
 "nbformat": 4,
 "nbformat_minor": 5
}
