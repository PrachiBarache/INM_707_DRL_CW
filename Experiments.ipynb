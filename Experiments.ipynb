{
 "cells": [
  {
   "cell_type": "code",
   "execution_count": null,
   "id": "93171632",
   "metadata": {},
   "outputs": [],
   "source": [
    "from learning_algorithms import q_learning, sarsa\n",
    "from zoo_environment import ZooEnvironment\n",
    "\n",
    "def run_experiments():\n",
    "    env = ZooEnvironment()\n",
    "    alphas = [0.1, 0.5, 0.9]\n",
    "    gammas = [0.9, 0.95, 0.99]\n",
    "    epsilons = [0.1, 0.3, 0.5]\n",
    "    policies = ['epsilon-greedy', 'random']\n",
    "    all_results = {}\n",
    "    for policy in policies:\n",
    "        for alpha in alphas:\n",
    "            for gamma in gammas:\n",
    "                for epsilon in epsilons:\n",
    "                    key = f\"Policy={policy}, alpha={alpha}, gamma={gamma}, epsilon={epsilon}\"\n",
    "                    results = q_learning(env, 50, alpha, gamma, epsilon)\n",
    "                    all_results[key] = results\n",
    "    return all_results\n",
    "\n",
    "def run_experiments_sarsa():\n",
    "    env = ZooEnvironment()\n",
    "    alphas = [0.1, 0.5, 0.9]\n",
    "    gammas = [0.9, 0.95, 0.99]\n",
    "    epsilons = [0.1, 0.3, 0.5]\n",
    "    all_results = {}\n",
    "    for alpha in alphas:\n",
    "        for gamma in gammas:\n",
    "            for epsilon in epsilons:\n",
    "                key = f\"alpha={alpha}, gamma={gamma}, epsilon={epsilon}\"\n",
    "                results = sarsa(env, 50, alpha, gamma, epsilon)\n",
    "                all_results[key] = results\n",
    "    return all_results\n"
   ]
  }
 ],
 "metadata": {
  "kernelspec": {
   "display_name": "Python (newenv)",
   "language": "python",
   "name": "newenv"
  },
  "language_info": {
   "codemirror_mode": {
    "name": "ipython",
    "version": 3
   },
   "file_extension": ".py",
   "mimetype": "text/x-python",
   "name": "python",
   "nbconvert_exporter": "python",
   "pygments_lexer": "ipython3",
   "version": "3.8.18"
  }
 },
 "nbformat": 4,
 "nbformat_minor": 5
}
